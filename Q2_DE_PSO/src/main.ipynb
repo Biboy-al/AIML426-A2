{
 "cells": [
  {
   "cell_type": "code",
   "execution_count": 39,
   "metadata": {},
   "outputs": [],
   "source": [
    "import random\n",
    "import math\n",
    "import matplotlib.pyplot as plt"
   ]
  },
  {
   "cell_type": "code",
   "execution_count": null,
   "metadata": {},
   "outputs": [],
   "source": [
    "class Particle:\n",
    "    def __init__(self, dimension, l_bound, h_bound):\n",
    "\n",
    "        self.position = [random.uniform(l_bound, h_bound) for _ in range(dimension)]\n",
    "\n",
    "        vmax = 0.1 * (h_bound - l_bound)\n",
    "        self.velocity = [random.uniform(-vmax, vmax) for _ in range(dimension)]\n",
    "\n",
    "        self.p_best = self.position.copy()\n",
    "        self.g_best = None\n",
    "\n",
    "        self.fitness = float('inf')\n",
    "        self.b_fitness = float('inf')\n",
    "\n",
    "\n",
    "    def calc_new_velocity(self, r1, r2, a_co1, a_co2):\n",
    "\n",
    "        cog_component = [r1 * a_co1 * (p - x) for p, x in zip(self.p_best, self.position)]\n",
    "\n",
    "        soc_component = [r2 * a_co2 * (g - x) for g, x in zip(self.g_best, self.position)]\n",
    "\n",
    "        self.velocity = [v + c + s for v, c, s in zip(self.velocity, cog_component, soc_component)]\n",
    "\n",
    "    \n",
    "    def calc_new_position(self, r1, r2, a_co1, a_co2):\n",
    "\n",
    "        self.calc_new_velocity(r1, r2, a_co1, a_co2)\n",
    "\n",
    "        self.position = [x + v for x, v in zip(self.position, self.velocity)]\n",
    "        "
   ]
  },
  {
   "cell_type": "code",
   "execution_count": 42,
   "metadata": {},
   "outputs": [],
   "source": [
    "def PSO(dimension, fitness, swarm_size, l_bound, h_bound, a_co1, a_co2, max_iter=100):\n",
    "\n",
    "    rnd = random.Random(0)\n",
    "    swarm = [Particle(dimension, l_bound, h_bound) for _ in range(swarm_size)]\n",
    "\n",
    "    best_fitnesses = []\n",
    "\n",
    "    best_position = None\n",
    "    best_fitness = float('inf')  # minimize fitness\n",
    "\n",
    "    for _ in range(max_iter):\n",
    "        for particle in swarm:\n",
    "            particle.fitness = fitness(particle.position)\n",
    "\n",
    "            # Update personal best\n",
    "            if (particle.p_best is None) or (particle.fitness < particle.b_fitness):\n",
    "                particle.p_best = particle.position.copy()\n",
    "                particle.b_fitness = particle.fitness\n",
    "\n",
    "            # Update global best\n",
    "            if (best_position is None) or (particle.fitness < best_fitness):\n",
    "                best_position = particle.position.copy()\n",
    "                best_fitness = particle.fitness\n",
    "            \n",
    "\n",
    "        # Update velocities and positions\n",
    "        for particle in swarm:\n",
    "            particle.g_best = best_position.copy()\n",
    "            r1 = rnd.random()\n",
    "            r2 = rnd.random()\n",
    "            particle.calc_new_position(r1, r2, a_co1, a_co2)\n",
    "        \n",
    "        # Logs best fitness for logging\n",
    "        best_fitnesses.append(best_fitness)\n",
    "\n",
    "    return (best_position, best_fitness, best_fitnesses)\n"
   ]
  },
  {
   "cell_type": "code",
   "execution_count": 15,
   "metadata": {},
   "outputs": [],
   "source": [
    "\n",
    "\n",
    "def rosenbrock_fitness(x):\n",
    "    D = len(x)\n",
    "\n",
    "    total = 0.0\n",
    "    \n",
    "    for i in range(D-1):\n",
    "        total += 100 * (x[i+1] - x[i]**2)**2 + (x[i] - 1)**2\n",
    "    return total\n",
    "\n",
    "def griewank_fitness(x):\n",
    "\n",
    "    sum_term = sum(xi**2 / 4000 for xi in x)\n",
    "\n",
    "    prod_term = 1.0\n",
    "\n",
    "    for i, xi in enumerate(x, start=1):\n",
    "        prod_term *= math.cos(xi / math.sqrt(i))\n",
    "    return sum_term - prod_term + 1"
   ]
  },
  {
   "cell_type": "code",
   "execution_count": 43,
   "metadata": {},
   "outputs": [],
   "source": [
    "def plot_fitness(fitnesses, title=\"Fitness Over Epochs\"):\n",
    "    plt.figure(figsize=(10, 6))\n",
    "    plt.plot(fitnesses, label=\"Fitness\")\n",
    "    plt.xlabel(\"Epoch\")\n",
    "    plt.ylabel(\"Fitness\")\n",
    "    plt.title(title)\n",
    "    plt.legend()\n",
    "    plt.grid(True)\n",
    "    plt.show()"
   ]
  },
  {
   "cell_type": "code",
   "execution_count": null,
   "metadata": {},
   "outputs": [
    {
     "data": {
      "image/png": "[encoded data removed]",
      "text/plain": [
       "<Figure size 1000x600 with 1 Axes>"
      ]
     },
     "metadata": {},
     "output_type": "display_data"
    }
   ],
   "source": [
    "(best_position, best_fitness, best_fitnesses)  = PSO(20,rosenbrock_fitness, 50, -30, 30, 0.5,1)\n",
    "\n",
    "plot_fitness(best_fitnesses)"
   ]
  }
 ],
 "metadata": {
  "kernelspec": {
   "display_name": "venv",
   "language": "python",
   "name": "python3"
  },
  "language_info": {
   "codemirror_mode": {
    "name": "ipython",
    "version": 3
   },
   "file_extension": ".py",
   "mimetype": "text/x-python",
   "name": "python",
   "nbconvert_exporter": "python",
   "pygments_lexer": "ipython3",
   "version": "3.12.8"
  }
 },
 "nbformat": 4,
 "nbformat_minor": 2
}
