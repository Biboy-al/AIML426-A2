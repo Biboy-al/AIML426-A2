{
 "cells": [
  {
   "cell_type": "code",
   "execution_count": 10,
   "metadata": {},
   "outputs": [],
   "source": [
    "from sklearn.model_selection import train_test_split\n",
    "from sklearn.naive_bayes import GaussianNB\n",
    "from sklearn.metrics import accuracy_score\n",
    "import pandas as pd\n",
    "import os\n"
   ]
  },
  {
   "cell_type": "code",
   "execution_count": null,
   "metadata": {},
   "outputs": [],
   "source": [
    "def read_file(file_name):\n",
    "\n",
    "    current_dir = os.getcwd()\n",
    "    base_dir = os.path.dirname(current_dir)\n",
    "    target_path = os.path.join(base_dir, file_name)    \n",
    "\n",
    "    print(\"current_dir\")\n",
    "\n",
    "    file_contents = \"\"\n",
    "    data = []\n",
    "\n",
    "    try:\n",
    "        with open(target_path) as f:\n",
    "            file_contents = f.readlines()\n",
    "\n",
    "        for line in file_contents:\n",
    "            data.append(tuple(map(int, (line.split()))))\n",
    "\n",
    "        return data\n",
    "    except FileNotFoundError:\n",
    "        print(f\"File not found: {target_path}\")\n",
    "        return None\n"
   ]
  },
  {
   "cell_type": "code",
   "execution_count": 18,
   "metadata": {},
   "outputs": [],
   "source": [
    "def get_dataset(file_name):\n",
    "\n",
    "    current_dir = os.getcwd()\n",
    "    base_dir = os.path.dirname(current_dir)\n",
    "    target_path = os.path.join(base_dir, file_name)  \n",
    "\n",
    "    data = pd.read_csv(target_path, index_col=0)\n",
    "\n",
    "    x = data.iloc[:, :-1]\n",
    "\n",
    "    y = data.iloc[:, -1]\n",
    "\n",
    "    return (x,y)\n"
   ]
  },
  {
   "cell_type": "code",
   "execution_count": null,
   "metadata": {},
   "outputs": [],
   "source": [
    "def get_accuracy(x_train,y_train, x_test, y_test, type):\n",
    "    model = GaussianNB()\n",
    "\n",
    "    model.fit(x_train, y_train)\n",
    "\n",
    "    y_pred_train = model.predict(x_train)\n",
    "\n",
    "    y_pred_test = model.predict(x_test)\n",
    "\n",
    "    print(f\"=== Dataset {type} ===\")\n",
    "\n",
    "    print(f\"    Train Dataset Accuracy:\", accuracy_score(y_train, y_pred_train))\n",
    "\n",
    "    print(f\"    Test Dataset Accuracy:\", accuracy_score(y_test, y_pred_test))"
   ]
  },
  {
   "cell_type": "code",
   "execution_count": 29,
   "metadata": {},
   "outputs": [],
   "source": [
    "def run_acc(type=\"f1\"):\n",
    "\n",
    "    (x_test, y_test) = get_dataset(f\"data/results/{type}/test_data_{type}.csv\")\n",
    "    (x_train, y_train) = get_dataset(f\"data/results/{type}/train_data_{type}.csv\")\n",
    "\n",
    "    get_accuracy(x_train, y_train, x_test, y_test, type)"
   ]
  },
  {
   "cell_type": "code",
   "execution_count": 30,
   "metadata": {},
   "outputs": [
    {
     "name": "stdout",
     "output_type": "stream",
     "text": [
      "Type:f1 Accuracy: 0.98\n",
      "Type:f2 Accuracy: 0.9\n"
     ]
    }
   ],
   "source": [
    "run_acc()\n",
    "run_acc(type=\"f2\")"
   ]
  }
 ],
 "metadata": {
  "kernelspec": {
   "display_name": "venv",
   "language": "python",
   "name": "python3"
  },
  "language_info": {
   "codemirror_mode": {
    "name": "ipython",
    "version": 3
   },
   "file_extension": ".py",
   "mimetype": "text/x-python",
   "name": "python",
   "nbconvert_exporter": "python",
   "pygments_lexer": "ipython3",
   "version": "3.12.8"
  }
 },
 "nbformat": 4,
 "nbformat_minor": 2
}
